{
 "cells": [
  {
   "cell_type": "code",
   "execution_count": 1,
   "metadata": {
    "collapsed": true
   },
   "outputs": [],
   "source": [
    "import numpy as np\n",
    "import matplotlib.pyplot as plt\n",
    "import pandas as pd"
   ]
  },
  {
   "cell_type": "code",
   "execution_count": 2,
   "metadata": {
    "collapsed": false
   },
   "outputs": [
    {
     "name": "stdout",
     "output_type": "stream",
     "text": [
      "      User ID  Gender  Age  EstimatedSalary  Purchased\n",
      "0    15624510    Male   19            19000          0\n",
      "1    15810944    Male   35            20000          0\n",
      "2    15668575  Female   26            43000          0\n",
      "3    15603246  Female   27            57000          0\n",
      "4    15804002    Male   19            76000          0\n",
      "5    15728773    Male   27            58000          0\n",
      "6    15598044  Female   27            84000          0\n",
      "7    15694829  Female   32           150000          1\n",
      "8    15600575    Male   25            33000          0\n",
      "9    15727311  Female   35            65000          0\n",
      "10   15570769  Female   26            80000          0\n",
      "11   15606274  Female   26            52000          0\n",
      "12   15746139    Male   20            86000          0\n",
      "13   15704987    Male   32            18000          0\n",
      "14   15628972    Male   18            82000          0\n",
      "15   15697686    Male   29            80000          0\n",
      "16   15733883    Male   47            25000          1\n",
      "17   15617482    Male   45            26000          1\n",
      "18   15704583    Male   46            28000          1\n",
      "19   15621083  Female   48            29000          1\n",
      "20   15649487    Male   45            22000          1\n",
      "21   15736760  Female   47            49000          1\n",
      "22   15714658    Male   48            41000          1\n",
      "23   15599081  Female   45            22000          1\n",
      "24   15705113    Male   46            23000          1\n",
      "25   15631159    Male   47            20000          1\n",
      "26   15792818    Male   49            28000          1\n",
      "27   15633531  Female   47            30000          1\n",
      "28   15744529    Male   29            43000          0\n",
      "29   15669656    Male   31            18000          0\n",
      "..        ...     ...  ...              ...        ...\n",
      "370  15611430  Female   60            46000          1\n",
      "371  15774744    Male   60            83000          1\n",
      "372  15629885  Female   39            73000          0\n",
      "373  15708791    Male   59           130000          1\n",
      "374  15793890  Female   37            80000          0\n",
      "375  15646091  Female   46            32000          1\n",
      "376  15596984  Female   46            74000          0\n",
      "377  15800215  Female   42            53000          0\n",
      "378  15577806    Male   41            87000          1\n",
      "379  15749381  Female   58            23000          1\n",
      "380  15683758    Male   42            64000          0\n",
      "381  15670615    Male   48            33000          1\n",
      "382  15715622  Female   44           139000          1\n",
      "383  15707634    Male   49            28000          1\n",
      "384  15806901  Female   57            33000          1\n",
      "385  15775335    Male   56            60000          1\n",
      "386  15724150  Female   49            39000          1\n",
      "387  15627220    Male   39            71000          0\n",
      "388  15672330    Male   47            34000          1\n",
      "389  15668521  Female   48            35000          1\n",
      "390  15807837    Male   48            33000          1\n",
      "391  15592570    Male   47            23000          1\n",
      "392  15748589  Female   45            45000          1\n",
      "393  15635893    Male   60            42000          1\n",
      "394  15757632  Female   39            59000          0\n",
      "395  15691863  Female   46            41000          1\n",
      "396  15706071    Male   51            23000          1\n",
      "397  15654296  Female   50            20000          1\n",
      "398  15755018    Male   36            33000          0\n",
      "399  15594041  Female   49            36000          1\n",
      "\n",
      "[400 rows x 5 columns]\n"
     ]
    }
   ],
   "source": [
    "dataset = pd.read_csv('Social_Network_Ads.csv')\n",
    "print(dataset)"
   ]
  },
  {
   "cell_type": "code",
   "execution_count": 3,
   "metadata": {
    "collapsed": false
   },
   "outputs": [
    {
     "name": "stdout",
     "output_type": "stream",
     "text": [
      "[['Male' 19 19000]\n",
      " ['Male' 35 20000]\n",
      " ['Female' 26 43000]\n",
      " ..., \n",
      " ['Female' 50 20000]\n",
      " ['Male' 36 33000]\n",
      " ['Female' 49 36000]] [0 0 0 0 0 0 0 1 0 0 0 0 0 0 0 0 1 1 1 1 1 1 1 1 1 1 1 1 0 0 0 1 0 0 0 0 0\n",
      " 0 0 0 0 0 0 0 0 0 0 0 1 0 0 0 0 0 0 0 0 0 0 0 0 0 0 1 0 0 0 0 0 0 0 0 0 0\n",
      " 0 1 0 0 0 0 0 0 0 0 0 1 0 0 0 0 0 0 0 0 0 0 0 1 0 0 0 0 0 1 0 0 0 0 0 0 0\n",
      " 0 0 0 0 0 0 0 0 0 0 0 0 0 0 0 0 0 0 0 0 0 0 0 0 0 0 1 0 0 0 0 0 0 0 0 1 0\n",
      " 0 0 0 0 0 0 0 0 0 0 0 1 1 0 0 0 0 0 0 0 1 0 0 0 0 0 0 0 0 0 0 0 0 0 1 0 0\n",
      " 0 0 0 0 0 0 0 0 0 0 0 0 0 0 0 0 0 1 0 1 0 1 0 1 0 1 1 0 0 0 1 0 0 0 1 0 1\n",
      " 1 1 0 0 1 1 0 1 1 0 1 1 0 1 0 0 0 1 1 0 1 1 0 1 0 1 0 1 0 0 1 1 0 1 0 0 1\n",
      " 1 0 1 1 0 1 1 0 0 1 0 0 1 1 1 1 1 0 1 1 1 1 0 1 1 0 1 0 1 0 1 1 1 1 0 0 0\n",
      " 1 1 0 1 1 1 1 1 0 0 0 1 1 0 0 1 0 1 0 1 1 0 1 0 1 1 0 1 1 0 0 0 1 1 0 1 0\n",
      " 0 1 0 1 0 0 1 1 0 0 1 1 0 1 1 0 0 1 0 1 0 1 1 1 0 1 0 1 1 1 0 1 1 1 1 0 1\n",
      " 1 1 0 1 0 1 0 0 1 1 0 1 1 1 1 1 1 0 1 1 1 1 1 1 0 1 1 1 0 1]\n"
     ]
    }
   ],
   "source": [
    "X = dataset.iloc[:,1:-1].values\n",
    "y = dataset.iloc[:,-1].values\n",
    "print(X,y)"
   ]
  }
 ],
 "metadata": {
  "kernelspec": {
   "display_name": "Python [default]",
   "language": "python",
   "name": "python3"
  },
  "language_info": {
   "codemirror_mode": {
    "name": "ipython",
    "version": 3
   },
   "file_extension": ".py",
   "mimetype": "text/x-python",
   "name": "python",
   "nbconvert_exporter": "python",
   "pygments_lexer": "ipython3",
   "version": "3.5.2"
  }
 },
 "nbformat": 4,
 "nbformat_minor": 1
}
